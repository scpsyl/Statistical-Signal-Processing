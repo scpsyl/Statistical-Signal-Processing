{
 "cells": [
  {
   "cell_type": "code",
   "execution_count": null,
   "metadata": {
    "ExecuteTime": {
     "end_time": "2021-10-18T09:14:00.683987Z",
     "start_time": "2021-10-18T09:13:59.750573Z"
    }
   },
   "outputs": [],
   "source": [
    "#导入MindSpore模块和辅助模块：\n",
    "\n",
    "import os\n",
    "# os.environ['DEVICE_ID'] = '7'\n",
    "import csv\n",
    "import numpy as np\n",
    "\n",
    "import mindspore as ms\n",
    "from mindspore import nn\n",
    "from mindspore import context\n",
    "from mindspore import dataset\n",
    "from mindspore.train.callback import LossMonitor\n",
    "\n",
    "# context.set_context(mode=context.GRAPH_MODE, device_target=\"Ascend\")\n",
    "context.set_context(mode=context.GRAPH_MODE, device_target=\"CPU\")"
   ]
  },
  {
   "cell_type": "code",
   "execution_count": null,
   "metadata": {
    "ExecuteTime": {
     "end_time": "2021-10-18T09:14:05.177816Z",
     "start_time": "2021-10-18T09:14:05.156828Z"
    }
   },
   "outputs": [],
   "source": [
    "#读取Iris数据集`iris.data`，并作检查\n",
    "with open('iris.data') as csv_file:\n",
    "    data = list(csv.reader(csv_file, delimiter=','))\n",
    "print(data[0:5]); print(data[50:55]); print(data[100:105]) # 打印部分数据"
   ]
  },
  {
   "cell_type": "code",
   "execution_count": null,
   "metadata": {
    "ExecuteTime": {
     "end_time": "2021-10-18T09:14:07.013820Z",
     "start_time": "2021-10-18T09:14:06.998829Z"
    }
   },
   "outputs": [],
   "source": [
    "#数据集的3类样本共150条，将样本的4个属性作为自变量$X$，将样本的3个类别映射为{0, 1, 2}，作为因变量$Y$。\n",
    "label_map = {\n",
    "    'Iris-setosa': 0,\n",
    "    'Iris-versicolor': 1,\n",
    "    'Iris-virginica': 2\n",
    "}\n",
    "X = np.array([[float(x) for x in s[:-1]] for s in data[:150]], np.float32)\n",
    "Y = np.array([label_map[s[-1]] for s in data[:150]], np.int32)"
   ]
  },
  {
   "cell_type": "code",
   "execution_count": null,
   "metadata": {
    "ExecuteTime": {
     "end_time": "2021-10-18T09:14:08.935573Z",
     "start_time": "2021-10-18T09:14:08.526795Z"
    }
   },
   "outputs": [],
   "source": [
    "#取样本的前两个属性进行2维可视化，可以看到在前两个属性上其中一类和余下两类是线性可分的，而余下两类之间线性不可分。\n",
    "from matplotlib import pyplot as plt\n",
    "plt.scatter(X[:50, 0], X[:50, 1], label='Iris-setosa')\n",
    "plt.scatter(X[50:100, 0], X[50:100, 1], label='Iris-versicolor')\n",
    "plt.scatter(X[100:, 0], X[100:, 1], label='Iris-virginica')\n",
    "plt.xlabel('sepal length')\n",
    "plt.ylabel('sepal width')\n",
    "plt.legend()"
   ]
  },
  {
   "cell_type": "code",
   "execution_count": null,
   "metadata": {
    "ExecuteTime": {
     "end_time": "2021-10-18T09:14:10.944827Z",
     "start_time": "2021-10-18T09:14:10.936832Z"
    }
   },
   "outputs": [],
   "source": [
    "#将数据集按8:2划分为训练集和验证集\n",
    "train_idx = np.random.choice(150, 120, replace=False)\n",
    "test_idx = np.array(list(set(range(150)) - set(train_idx)))\n",
    "X_train, Y_train = X[train_idx], Y[train_idx]\n",
    "X_test, Y_test = X[test_idx], Y[test_idx]"
   ]
  },
  {
   "cell_type": "code",
   "execution_count": null,
   "metadata": {
    "ExecuteTime": {
     "end_time": "2021-10-18T09:14:12.129810Z",
     "start_time": "2021-10-18T09:14:12.110821Z"
    }
   },
   "outputs": [],
   "source": [
    "#使用MindSpore`GeneratorDataset`接口将numpy.ndarray类型的数据转换为Dataset\n",
    "XY_train = list(zip(X_train, Y_train))\n",
    "ds_train = dataset.GeneratorDataset(XY_train, ['x', 'y'])\n",
    "# ds_train.set_dataset_size(120)\n",
    "print(ds_train.get_dataset_size())\n",
    "ds_train = ds_train.shuffle(buffer_size=120).batch(32, drop_remainder=True)\n",
    "\n",
    "XY_test = list(zip(X_test, Y_test))\n",
    "ds_test = dataset.GeneratorDataset(XY_test, ['x', 'y'])\n",
    "# ds_test.set_dataset_size(30)\n",
    "print(ds_test.get_dataset_size())\n",
    "ds_test = ds_test.batch(30)"
   ]
  },
  {
   "cell_type": "code",
   "execution_count": null,
   "metadata": {
    "ExecuteTime": {
     "end_time": "2021-10-18T09:14:45.854829Z",
     "start_time": "2021-10-18T09:14:45.834817Z"
    }
   },
   "outputs": [],
   "source": [
    "net = nn.Dense(4, 3)\n",
    "loss = nn.loss.SoftmaxCrossEntropyWithLogits(sparse=True, reduction='mean')\n",
    "opt = nn.optim.Momentum(net.trainable_params(), learning_rate=0.05, momentum=0.9)\n"
   ]
  },
  {
   "cell_type": "code",
   "execution_count": null,
   "metadata": {
    "ExecuteTime": {
     "end_time": "2021-10-18T09:14:58.699426Z",
     "start_time": "2021-10-18T09:14:58.257431Z"
    }
   },
   "outputs": [],
   "source": [
    "model = ms.train.Model(net, loss, opt, metrics={'acc', 'loss'})\n",
    "model.train(25, ds_train, callbacks=[LossMonitor(per_print_times=ds_train.get_dataset_size())], dataset_sink_mode=False)\n",
    "metrics = model.eval(ds_test)\n",
    "print(metrics)"
   ]
  }
 ],
 "metadata": {
  "kernelspec": {
   "display_name": "mindspore",
   "language": "python",
   "name": "mindspore"
  },
  "language_info": {
   "codemirror_mode": {
    "name": "ipython",
    "version": 3
   },
   "file_extension": ".py",
   "mimetype": "text/x-python",
   "name": "python",
   "nbconvert_exporter": "python",
   "pygments_lexer": "ipython3",
   "version": "3.7.5"
  }
 },
 "nbformat": 4,
 "nbformat_minor": 4
}
