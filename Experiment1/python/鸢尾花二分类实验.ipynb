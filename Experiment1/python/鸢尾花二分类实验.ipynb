{
 "cells": [
  {
   "cell_type": "markdown",
   "metadata": {},
   "source": [
    "# 逻辑回归实现鸢尾花二分类实验\n",
    "\n",
    "## 实验介绍\n",
    "\n",
    "逻辑回归（Logistic Regression）是机器学习最经典的算法之一，与线性回归有很多不同，这两种回归都属于广义线性回归（Generalized Linear Regression）的范畴。逻辑回归具有如下特点：\n",
    "\n",
    "- 逻辑回归对自变量分布没有要求；\n",
    "- 因变量是离散型变量，即分类变量；\n",
    "- 逻辑回归分析的是因变量取某个值的概率与自变量的关系。\n",
    "\n",
    "本实验主要介绍使用MindSpore在2分类数据集上进行逻辑回归实验，分析自变量和因变量（概率）之间的关系，即求得一个概率函数。\n",
    "\n",
    "## 实验目的\n",
    "\n",
    "- 了解逻辑回归的基本概念；\n",
    "- 了解如何使用MindSpore进行逻辑回归实验。\n",
    "\n",
    "## 预备知识\n",
    "\n",
    "- 熟练使用Python。\n",
    "- 具备一定的机器学习理论知识，如逻辑回归、损失函数、优化器，训练策略等。\n",
    "- 了解华为云的基本使用方法，包括[OBS（对象存储）](https://www.huaweicloud.com/product/obs.html)、[ModelArts（AI开发平台）](https://www.huaweicloud.com/product/modelarts.html)、[训练作业](https://support.huaweicloud.com/engineers-modelarts/modelarts_23_0238.html)等功能。华为云官网：https://www.huaweicloud.com\n",
    "- 了解并熟悉MindSpore AI计算框架，MindSpore官网：https://www.mindspore.cn/\n",
    "\n",
    "## 实验环境\n",
    "\n",
    "- MindSpore 1.5.0rc1；\n",
    "- 华为云ModelArts（控制台左上角选择“华北-北京四”）：ModelArts是华为云提供的面向开发者的一站式AI开发平台，集成了昇腾AI处理器资源池，用户可以在该平台下体验MindSpore。\n",
    "\n",
    "## 实验步骤\n",
    "\n",
    "### 步骤 1\t数据准备\n",
    "#### 下载数据\n",
    "Iris数据集是模式识别最著名的数据集之一。数据集包含3类，每类50个实例，其中每个类都涉及一种鸢尾植物。 第一类与后两类可线性分离，后两类之间不能线性分离，所以本实验取前两类数据，做一个2分类数据集。  \n",
    "  Iris数据集的官网：[Iris Data Set](http://archive.ics.uci.edu/ml/datasets/Iris)。  \n",
    "方式一，从Iris数据集官网下载[iris.data文件](http://archive.ics.uci.edu/ml/machine-learning-databases/iris/iris.data)。  \n",
    "方式二，从华为云OBS中下载[iris.data文件](https://share-course.obs.cn-north-4.myhuaweicloud.com/dataset/iris.data)。\n",
    "\n",
    "每个样本含有4个数值属性和一个类别属性：\n",
    "1. sepal length in cm\n",
    "2. sepal width in cm\n",
    "3. petal length in cm\n",
    "4. petal width in cm\n",
    "5. class: \n",
    "    - Iris Setosa\n",
    "    - Iris Versicolour\n",
    "    - Iris Virginica\n",
    "\n",
    "概括统计：\n",
    "\n",
    "                 Min  Max   Mean    SD   Class Correlation\n",
    "   sepal length: 4.3  7.9   5.84  0.83    0.7826   \n",
    "    sepal width: 2.0  4.4   3.05  0.43   -0.4194\n",
    "   petal length: 1.0  6.9   3.76  1.76    0.9490  (high!)\n",
    "    petal width: 0.1  2.5   1.20  0.76    0.9565  (high!)\n",
    "#### 上传数据到OBS\n",
    "点击新建的OBS桶名，通过“上传”、“新建文件夹”等功能，将数据集上传到OBS桶中。"
   ]
  },
  {
   "cell_type": "markdown",
   "metadata": {},
   "source": [
    "### 步骤二 数据读取与处理\n",
    "#### 导入MindSpore模块和辅助模块\n"
   ]
  },
  {
   "cell_type": "code",
   "execution_count": 1,
   "metadata": {
    "ExecuteTime": {
     "end_time": "2021-10-18T09:07:18.154332Z",
     "start_time": "2021-10-18T09:07:17.285792Z"
    }
   },
   "outputs": [],
   "source": [
    "import os\n",
    "# os.environ['DEVICE_ID'] = '6'\n",
    "import csv\n",
    "import numpy as np\n",
    "\n",
    "import mindspore as ms\n",
    "from mindspore import nn\n",
    "from mindspore import context\n",
    "from mindspore import dataset\n",
    "from mindspore.train.callback import LossMonitor\n",
    "from mindspore.common.api import ms_function\n",
    "from mindspore.ops import operations as P\n",
    "\n",
    "# context.set_context(mode=context.GRAPH_MODE, device_target=\"Ascend\") # 硬件使用华为Ascend\n",
    "context.set_context(mode=context.GRAPH_MODE, device_target=\"CPU\") # 硬件使用CPU"
   ]
  },
  {
   "cell_type": "markdown",
   "metadata": {},
   "source": [
    "#### 读取Iris数据集，并查看部分数据"
   ]
  },
  {
   "cell_type": "code",
   "execution_count": 2,
   "metadata": {
    "ExecuteTime": {
     "end_time": "2021-10-18T09:07:20.442306Z",
     "start_time": "2021-10-18T09:07:20.428328Z"
    },
    "scrolled": true
   },
   "outputs": [
    {
     "name": "stdout",
     "output_type": "stream",
     "text": [
      "[['5.0', '3.5', '1.3', '0.3', 'Iris-setosa'], ['4.5', '2.3', '1.3', '0.3', 'Iris-setosa'], ['4.4', '3.2', '1.3', '0.2', 'Iris-setosa'], ['5.0', '3.5', '1.6', '0.6', 'Iris-setosa'], ['5.1', '3.8', '1.9', '0.4', 'Iris-setosa'], ['4.8', '3.0', '1.4', '0.3', 'Iris-setosa'], ['5.1', '3.8', '1.6', '0.2', 'Iris-setosa'], ['4.6', '3.2', '1.4', '0.2', 'Iris-setosa'], ['5.3', '3.7', '1.5', '0.2', 'Iris-setosa'], ['5.0', '3.3', '1.4', '0.2', 'Iris-setosa'], ['7.0', '3.2', '4.7', '1.4', 'Iris-versicolor'], ['6.4', '3.2', '4.5', '1.5', 'Iris-versicolor'], ['6.9', '3.1', '4.9', '1.5', 'Iris-versicolor'], ['5.5', '2.3', '4.0', '1.3', 'Iris-versicolor'], ['6.5', '2.8', '4.6', '1.5', 'Iris-versicolor'], ['5.7', '2.8', '4.5', '1.3', 'Iris-versicolor'], ['6.3', '3.3', '4.7', '1.6', 'Iris-versicolor'], ['4.9', '2.4', '3.3', '1.0', 'Iris-versicolor'], ['6.6', '2.9', '4.6', '1.3', 'Iris-versicolor'], ['5.2', '2.7', '3.9', '1.4', 'Iris-versicolor']]\n"
     ]
    }
   ],
   "source": [
    "with open('iris.data') as csv_file:\n",
    "    data = list(csv.reader(csv_file, delimiter=','))\n",
    "print(data[40:60]) # 打印部分数据"
   ]
  },
  {
   "cell_type": "markdown",
   "metadata": {},
   "source": [
    "#### 抽取样本\n",
    "取前两类样本（共100条），将数据集的4个属性作为自变量X。将数据集的2个类别映射为{0, 1}，作为因变量Y。\n"
   ]
  },
  {
   "cell_type": "code",
   "execution_count": 3,
   "metadata": {
    "ExecuteTime": {
     "end_time": "2021-10-18T09:07:21.936698Z",
     "start_time": "2021-10-18T09:07:21.926718Z"
    }
   },
   "outputs": [],
   "source": [
    "label_map = {\n",
    "    'Iris-setosa': 0,\n",
    "    'Iris-versicolor': 1,\n",
    "}\n",
    "\n",
    "X = np.array([[float(x) for x in s[:-1]] for s in data[:100]], np.float32)\n",
    "Y = np.array([[label_map[s[-1]]] for s in data[:100]], np.float32)"
   ]
  },
  {
   "cell_type": "markdown",
   "metadata": {},
   "source": [
    "#### 样本可视化\n",
    "取样本的前两个属性进行2维可视化，可以看到在前两个属性上两类样本是线性可分的。\n"
   ]
  },
  {
   "cell_type": "code",
   "execution_count": 5,
   "metadata": {
    "ExecuteTime": {
     "end_time": "2021-10-18T09:07:23.699665Z",
     "start_time": "2021-10-18T09:07:23.280891Z"
    }
   },
   "outputs": [
    {
     "data": {
      "text/plain": [
       "<matplotlib.legend.Legend at 0x1c2783c4f10>"
      ]
     },
     "execution_count": 5,
     "metadata": {},
     "output_type": "execute_result"
    },
    {
     "data": {
      "image/png": "[encoded data removed]",
      "text/plain": [
       "<Figure size 640x480 with 1 Axes>"
      ]
     },
     "metadata": {},
     "output_type": "display_data"
    }
   ],
   "source": [
    "from matplotlib import pyplot as plt\n",
    "plt.scatter(X[:50, 0], X[:50, 1], label='Iris-setosa')\n",
    "plt.scatter(X[50:, 0], X[50:, 1], label='Iris-versicolor')\n",
    "plt.xlabel('sepal length')\n",
    "plt.ylabel('sepal width')\n",
    "plt.legend()"
   ]
  },
  {
   "cell_type": "markdown",
   "metadata": {},
   "source": [
    "#### 分割数据集\n",
    "将数据集按8:2划分为训练集和验证集：\n"
   ]
  },
  {
   "cell_type": "code",
   "execution_count": 6,
   "metadata": {
    "ExecuteTime": {
     "end_time": "2021-10-18T09:07:26.028214Z",
     "start_time": "2021-10-18T09:07:26.010223Z"
    }
   },
   "outputs": [],
   "source": [
    "train_idx = np.random.choice(100, 80, replace=False)\n",
    "test_idx = np.array(list(set(range(100)) - set(train_idx)))\n",
    "X_train, Y_train = X[train_idx], Y[train_idx]\n",
    "X_test, Y_test = X[test_idx], Y[test_idx]"
   ]
  },
  {
   "cell_type": "code",
   "execution_count": null,
   "metadata": {
    "ExecuteTime": {
     "end_time": "2021-10-18T09:07:28.492888Z",
     "start_time": "2021-10-18T09:07:28.488893Z"
    }
   },
   "outputs": [],
   "source": [
    "# def normalize(data):\n",
    "#     v_max = np.max(data, axis=0)\n",
    "#     v_min = np.min(data, axis=0)\n",
    "#     return np.divide(data - v_min, v_max - v_min) * 2.0 - 1.0\n",
    "# train_data = list(zip(normalize(X_train), Y_train))"
   ]
  },
  {
   "cell_type": "markdown",
   "metadata": {},
   "source": [
    "#### 数据类型转换\n",
    "使用MindSpore的GeneratorDataset接口将numpy.ndarray类型的数据转换为Dataset：\n"
   ]
  },
  {
   "cell_type": "code",
   "execution_count": 7,
   "metadata": {
    "ExecuteTime": {
     "end_time": "2021-10-18T09:07:40.733627Z",
     "start_time": "2021-10-18T09:07:40.723637Z"
    }
   },
   "outputs": [],
   "source": [
    "XY_train = list(zip(X_train, Y_train))\n",
    "ds_train = dataset.GeneratorDataset(XY_train, ['x', 'y'])\n",
    "ds_train.get_dataset_size()\n",
    "ds_train = ds_train.shuffle(buffer_size=80).batch(32, drop_remainder=True)"
   ]
  },
  {
   "cell_type": "markdown",
   "metadata": {},
   "source": [
    "### 步骤三 模型建立与训练\n",
    "#### 可视化逻辑回归函数\n",
    "逻辑回归常用的联系函数是Sigmoid（S形函数），Sigmoid函数如下图所示，可以将连续值映射到{0, 1}，同时也是单调可微的。\n"
   ]
  },
  {
   "cell_type": "code",
   "execution_count": 8,
   "metadata": {
    "ExecuteTime": {
     "end_time": "2021-10-18T09:07:42.463758Z",
     "start_time": "2021-10-18T09:07:42.314857Z"
    }
   },
   "outputs": [
    {
     "data": {
      "text/plain": [
       "Text(0, 0.5, 'p')"
      ]
     },
     "execution_count": 8,
     "metadata": {},
     "output_type": "execute_result"
    },
    {
     "data": {
      "image/png": "[encoded data removed]",
      "text/plain": [
       "<Figure size 640x480 with 1 Axes>"
      ]
     },
     "metadata": {},
     "output_type": "display_data"
    }
   ],
   "source": [
    "coor_x = np.arange(-10, 11, dtype=np.float32)\n",
    "coor_y = nn.Sigmoid()(ms.Tensor(coor_x)).asnumpy()\n",
    "plt.plot(coor_x, coor_y)\n",
    "plt.xlabel('x')\n",
    "plt.ylabel('p')"
   ]
  },
  {
   "cell_type": "markdown",
   "metadata": {},
   "source": [
    "####  建模\n",
    "使用MindSpore提供的[`nn.Dense(4, 1)`算子](https://www.mindspore.cn/api/zh-CN/0.2.0-alpha/api/python/mindspore/mindspore.nn.html#mindspore.nn.Dense)作为线性部分，其中`(4, 1)`表示每个样本的输入是含4个元素的向量，输出是含1个元素的向量，即$W$是1x4的矩阵。算子会随机初始化权重$W$和偏置$b$。使用[`SigmoidCrossEntropyWithLogits`算子](https://www.mindspore.cn/api/zh-CN/0.3.0-alpha/api/python/mindspore/mindspore.ops.operations.html?#mindspore.ops.operations.SigmoidCrossEntropyWithLogits)作为非线性部分：\n",
    "\n",
    "对于每个样本$N_i$，模型的计算方式如下：\n",
    "\n",
    "$$\n",
    "Z_i = W \\cdot X_i + b \\\\\n",
    "P_{i} = sigmoid(Z_{i}) = \\frac{1}{1 + e^{-Z_{i}}} \\\\\n",
    "loss = -\\frac{1}n\\sum_i[Y_{i} * ln(P_{i}) + (1 - Y_{i})ln(1 - P_{i})]\n",
    "$$\n",
    "\n",
    "其中，$X_i$是1D Tensor（含4个元素），$Z_i$是1D Tensor（含1个元素），$Y_i$是真实类别（2个类别{0, 1}中的一个），$P_i$是1D Tensor（含1个元素，表示属于类别1的概率，值域为[0, 1]），$loss$是标量。\n"
   ]
  },
  {
   "cell_type": "code",
   "execution_count": 9,
   "metadata": {
    "ExecuteTime": {
     "end_time": "2021-10-18T09:07:43.822886Z",
     "start_time": "2021-10-18T09:07:43.801835Z"
    }
   },
   "outputs": [],
   "source": [
    "# 自定义Loss\n",
    "class Loss(nn.Cell):\n",
    "    def __init__(self):\n",
    "        super(Loss, self).__init__()\n",
    "        self.sigmoid_cross_entropy_with_logits = P.SigmoidCrossEntropyWithLogits()\n",
    "        self.reduce_mean = P.ReduceMean(keep_dims=False)\n",
    "    def construct(self, x, y):\n",
    "        loss = self.sigmoid_cross_entropy_with_logits(x, y)\n",
    "        return self.reduce_mean(loss, -1)\n",
    "\n",
    "net = nn.Dense(4, 1)\n",
    "loss = Loss()\n",
    "opt = nn.optim.SGD(net.trainable_params(), learning_rate=0.003)"
   ]
  },
  {
   "cell_type": "markdown",
   "metadata": {},
   "source": [
    "#### 模型训练\n",
    "使用2分类的Iris数据集对模型进行几代（Epoch）训练"
   ]
  },
  {
   "cell_type": "code",
   "execution_count": 10,
   "metadata": {
    "ExecuteTime": {
     "end_time": "2021-10-18T09:07:45.218390Z",
     "start_time": "2021-10-18T09:07:45.030833Z"
    }
   },
   "outputs": [
    {
     "name": "stdout",
     "output_type": "stream",
     "text": [
      "epoch: 1 step: 2, loss is 0.5053353309631348\n",
      "epoch: 2 step: 2, loss is 0.39310166239738464\n",
      "epoch: 3 step: 2, loss is 0.39006900787353516\n",
      "epoch: 4 step: 2, loss is 0.35206305980682373\n",
      "epoch: 5 step: 2, loss is 0.3093556761741638\n"
     ]
    }
   ],
   "source": [
    "model = ms.train.Model(net, loss, opt)\n",
    "model.train(5, ds_train, callbacks=[LossMonitor(per_print_times=ds_train.get_dataset_size())], dataset_sink_mode=False)"
   ]
  },
  {
   "cell_type": "markdown",
   "metadata": {},
   "source": [
    "### 步骤四 模型评估\n",
    "然后计算模型在测试集上精度，测试集上的精度达到了1.0左右，即逻辑回归模型学会了区分2类鸢尾花。\n"
   ]
  },
  {
   "cell_type": "code",
   "execution_count": 12,
   "metadata": {
    "ExecuteTime": {
     "end_time": "2021-10-18T09:07:48.102815Z",
     "start_time": "2021-10-18T09:07:48.075828Z"
    }
   },
   "outputs": [
    {
     "name": "stdout",
     "output_type": "stream",
     "text": [
      "Test accuracy is 1.0\n"
     ]
    },
    {
     "data": {
      "image/png": "[encoded data removed]",
      "text/plain": [
       "<Figure size 640x480 with 1 Axes>"
      ]
     },
     "metadata": {},
     "output_type": "display_data"
    }
   ],
   "source": [
    "x = model.predict(ms.Tensor(X_test)).asnumpy()\n",
    "pred = np.round(1 / (1 + np.exp(-x)))\n",
    "correct = np.equal(pred, Y_test)\n",
    "acc = np.mean(correct)\n",
    "print('Test accuracy is', acc)\n",
    "plt.scatter(X_test[:, 0], X_test[:, 1], c=pred.flatten(), cmap='viridis', marker='o', edgecolor='k')\n",
    "plt.xlabel('sepal length')\n",
    "plt.ylabel('sepal width')\n",
    "plt.title('Classification Results')\n",
    "plt.show()"
   ]
  },
  {
   "cell_type": "markdown",
   "metadata": {},
   "source": [
    "## 实验小结\n",
    "本实验使用MindSpore实现了逻辑回归，用来解决2分类问题。在Iris数据集上进行训练后，所得的模型可以很好的表示每个样本类别y和属性x的关系。"
   ]
  },
  {
   "cell_type": "markdown",
   "metadata": {},
   "source": [
    "## 创新设计\n",
    "请使用Softmax函数作为联系函数，对完整的Iris数据集实现多分类任务。\n"
   ]
  }
 ],
 "metadata": {
  "kernelspec": {
   "display_name": "pytorch",
   "language": "python",
   "name": "python3"
  },
  "language_info": {
   "codemirror_mode": {
    "name": "ipython",
    "version": 3
   },
   "file_extension": ".py",
   "mimetype": "text/x-python",
   "name": "python",
   "nbconvert_exporter": "python",
   "pygments_lexer": "ipython3",
   "version": "3.9.20"
  }
 },
 "nbformat": 4,
 "nbformat_minor": 2
}
